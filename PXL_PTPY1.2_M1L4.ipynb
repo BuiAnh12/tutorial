{
 "cells": [
  {
   "cell_type": "markdown",
   "metadata": {},
   "source": [
    "Nested contruction and comment in coding "
   ]
  },
  {
   "cell_type": "markdown",
   "metadata": {},
   "source": [
    "0. REVIEW"
   ]
  },
  {
   "cell_type": "markdown",
   "metadata": {},
   "source": [
    "    1. What is a function"
   ]
  },
  {
   "cell_type": "code",
   "execution_count": 1,
   "metadata": {},
   "outputs": [
    {
     "name": "stdout",
     "output_type": "stream",
     "text": [
      "you can code\n"
     ]
    }
   ],
   "source": [
    "print('you can code')\n",
    "number = input('Enter a number')"
   ]
  },
  {
   "cell_type": "code",
   "execution_count": 2,
   "metadata": {},
   "outputs": [
    {
     "name": "stdout",
     "output_type": "stream",
     "text": [
      "3\n",
      "20\n"
     ]
    }
   ],
   "source": [
    "a = 'Tom'\n",
    "b = '10'\n",
    "\n",
    "length = len(a)\n",
    "b = int(b)\n",
    "print(length)\n",
    "print(b + 10)"
   ]
  },
  {
   "cell_type": "markdown",
   "metadata": {},
   "source": [
    "\n",
    "    2. Action with string:"
   ]
  },
  {
   "cell_type": "code",
   "execution_count": 4,
   "metadata": {},
   "outputs": [
    {
     "name": "stdout",
     "output_type": "stream",
     "text": [
      "14\n",
      "\n",
      "11\n",
      "my name is tom\n"
     ]
    }
   ],
   "source": [
    "string = 'My name is Tom'\n",
    "#1\n",
    "length = len(string)\n",
    "print(length)\n",
    "#2\n",
    "name = string[-3:length]\n",
    "print(name)\n",
    "#3\n",
    "name_pos = string.find('Tom')\n",
    "print(name_pos)\n",
    "#4\n",
    "string = string.lower()\n",
    "print(string)"
   ]
  },
  {
   "cell_type": "markdown",
   "metadata": {},
   "source": [
    "1. NESTED CONTRUCTION"
   ]
  },
  {
   "cell_type": "code",
   "execution_count": 5,
   "metadata": {},
   "outputs": [
    {
     "name": "stdout",
     "output_type": "stream",
     "text": [
      "5\n"
     ]
    }
   ],
   "source": [
    "# a programe to calculate sum of 2 given number\n",
    "# a = input('Enter first  number: ')\n",
    "a = int(a)\n",
    "b = input('Enter second number: ')\n",
    "b = int(b)\n",
    "print(a + b)"
   ]
  },
  {
   "cell_type": "code",
   "execution_count": 6,
   "metadata": {},
   "outputs": [
    {
     "name": "stdout",
     "output_type": "stream",
     "text": [
      "3\n"
     ]
    }
   ],
   "source": [
    "a = int(input('ENter first number: '))\n",
    "b = int(input('ENter second number: '))\n",
    "print(a + b)"
   ]
  },
  {
   "cell_type": "markdown",
   "metadata": {},
   "source": [
    "        But!!!"
   ]
  },
  {
   "cell_type": "code",
   "execution_count": 7,
   "metadata": {},
   "outputs": [
    {
     "name": "stdout",
     "output_type": "stream",
     "text": [
      "Tom\n"
     ]
    }
   ],
   "source": [
    "string = 'I am a programming tutor. My name is Tom'\n",
    "end = len(string)\n",
    "start = - len('Tom')\n",
    "print(string[start:end])"
   ]
  },
  {
   "cell_type": "code",
   "execution_count": null,
   "metadata": {},
   "outputs": [],
   "source": [
    "string = 'I am a programming tutor. My name is Tom'\n",
    "print(string[-len('Tom'):len(string)])"
   ]
  },
  {
   "cell_type": "markdown",
   "metadata": {},
   "source": [
    "    COMMEN SYNTAX\n",
    "\n",
    "`var = int(input())` This will convert the input into string\n",
    "\n",
    "`var = len(input())` This will find the length of the input "
   ]
  },
  {
   "cell_type": "markdown",
   "metadata": {},
   "source": [
    "COMMENT IN CODING\n",
    "\n",
    "we will used the `#` to defind the start of the conmment\n",
    "\n",
    "we can used the `ctrl + /` to comment and un_comment the line of code\n"
   ]
  },
  {
   "cell_type": "code",
   "execution_count": null,
   "metadata": {},
   "outputs": [],
   "source": [
    "# a programe to calculate sum of 2 given number\n",
    "a = input('Enter first  number: ')\n",
    "a = int(a)\n",
    "b = input('Enter second number: ')\n",
    "b = int(b)\n",
    "print(a + b)"
   ]
  },
  {
   "cell_type": "code",
   "execution_count": 10,
   "metadata": {},
   "outputs": [
    {
     "name": "stdout",
     "output_type": "stream",
     "text": [
      "10\n"
     ]
    }
   ],
   "source": [
    "m = int(input())\n",
    "print(str(m//10) + str(m%10))"
   ]
  }
 ],
 "metadata": {
  "kernelspec": {
   "display_name": "Python 3",
   "language": "python",
   "name": "python3"
  },
  "language_info": {
   "codemirror_mode": {
    "name": "ipython",
    "version": 3
   },
   "file_extension": ".py",
   "mimetype": "text/x-python",
   "name": "python",
   "nbconvert_exporter": "python",
   "pygments_lexer": "ipython3",
   "version": "3.11.4"
  },
  "orig_nbformat": 4
 },
 "nbformat": 4,
 "nbformat_minor": 2
}
